{
 "cells": [
  {
   "cell_type": "code",
   "execution_count": 9,
   "id": "2fcb2ce2-1d83-4e7f-bf2f-28b2a60a8495",
   "metadata": {},
   "outputs": [
    {
     "name": "stdout",
     "output_type": "stream",
     "text": [
      "False\n",
      "True\n"
     ]
    }
   ],
   "source": [
    "#Question 1\n",
    "\n",
    "def binary_search(ordered_list, term):\n",
    "    size_of_list = len(ordered_list) - 1\n",
    "    index_of_first_element = 0\n",
    "    index_of_last_element = size_of_list\n",
    "    while index_of_first_element <= index_of_last_element:\n",
    "        mid_point = (index_of_first_element + index_of_last_element)//2\n",
    "        if ordered_list[mid_point] == term:\n",
    "            return True\n",
    "        if term > ordered_list[mid_point]:\n",
    "            index_of_first_element = mid_point + 1\n",
    "        else:\n",
    "            index_of_last_element = mid_point - 1\n",
    "    \n",
    "    return False\n",
    "\n",
    "print(binary_search([1,2,3,5,8], 6))\n",
    "\n",
    "print(binary_search([1,2,3,5,8], 5))\n"
   ]
  },
  {
   "cell_type": "code",
   "execution_count": 15,
   "id": "d2e15e46-78dd-4c49-947c-9ecaf88bca6b",
   "metadata": {
    "tags": []
   },
   "outputs": [
    {
     "name": "stdout",
     "output_type": "stream",
     "text": [
      "[14, 21, 27, 41, 43, 45, 46, 57, 70]\n"
     ]
    }
   ],
   "source": [
    "#Question 4\n",
    "\n",
    "def insertion_sort(unsorted_list):\n",
    "    for index in range(1, len(unsorted_list)):\n",
    "        search_index = index\n",
    "        insert_value = unsorted_list[index]\n",
    "        \n",
    "        while search_index > 0 and unsorted_list[search_index-1] > insert_value :\n",
    "            unsorted_list[search_index] = unsorted_list[search_index-1]\n",
    "            search_index -= 1\n",
    "        unsorted_list[search_index] = insert_value\n",
    "    \n",
    "    return unsorted_list\n",
    "        \n",
    "\n",
    "print(insertion_sort([14,46,43,27,57,41,45,21,70]))"
   ]
  },
  {
   "cell_type": "code",
   "execution_count": null,
   "id": "208c7fb9-9c8f-4730-a614-dbf41d92f057",
   "metadata": {},
   "outputs": [],
   "source": []
  }
 ],
 "metadata": {
  "kernelspec": {
   "display_name": "Python 3 (ipykernel)",
   "language": "python",
   "name": "python3"
  },
  "language_info": {
   "codemirror_mode": {
    "name": "ipython",
    "version": 3
   },
   "file_extension": ".py",
   "mimetype": "text/x-python",
   "name": "python",
   "nbconvert_exporter": "python",
   "pygments_lexer": "ipython3",
   "version": "3.11.5"
  }
 },
 "nbformat": 4,
 "nbformat_minor": 5
}
