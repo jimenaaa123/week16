{
 "cells": [
  {
   "cell_type": "code",
   "execution_count": 4,
   "id": "2fcb2ce2-1d83-4e7f-bf2f-28b2a60a8495",
   "metadata": {},
   "outputs": [
    {
     "data": {
      "text/plain": [
       "True"
      ]
     },
     "execution_count": 4,
     "metadata": {},
     "output_type": "execute_result"
    }
   ],
   "source": [
    "#Question 1\n",
    "\n",
    "def binary_search(ordered_list, term):\n",
    "    size_of_list = len(ordered_list) - 1\n",
    "    index_of_first_element = 0\n",
    "    index_of_last_element = size_of_list\n",
    "    while index_of_first_element <= index_of_last_element:\n",
    "        mid_point = (index_of_first_element + index_of_last_element)//2\n",
    "        if ordered_list[mid_point] == term:\n",
    "            return True\n",
    "        if term > ordered_list[mid_point]:\n",
    "            index_of_first_element = mid_point + 1\n",
    "        else:\n",
    "            index_of_last_element = mid_point - 1\n",
    "            \n",
    "binary_search([1,2,3,5,8], 6)\n",
    "\n",
    "binary_search([1,2,3,5,8], 5)\n"
   ]
  },
  {
   "cell_type": "code",
   "execution_count": null,
   "id": "d2e15e46-78dd-4c49-947c-9ecaf88bca6b",
   "metadata": {},
   "outputs": [],
   "source": []
  }
 ],
 "metadata": {
  "kernelspec": {
   "display_name": "Python 3 (ipykernel)",
   "language": "python",
   "name": "python3"
  },
  "language_info": {
   "codemirror_mode": {
    "name": "ipython",
    "version": 3
   },
   "file_extension": ".py",
   "mimetype": "text/x-python",
   "name": "python",
   "nbconvert_exporter": "python",
   "pygments_lexer": "ipython3",
   "version": "3.11.5"
  }
 },
 "nbformat": 4,
 "nbformat_minor": 5
}
